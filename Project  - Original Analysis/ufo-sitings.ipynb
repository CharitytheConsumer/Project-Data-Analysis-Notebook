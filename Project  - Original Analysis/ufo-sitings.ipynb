{
 "cells": [
  {
   "cell_type": "markdown",
   "metadata": {},
   "source": [
    "# UFO Sightings Data Exploration\n"
   ]
  },
  {
   "cell_type": "code",
   "execution_count": 1,
   "metadata": {},
   "outputs": [],
   "source": [
    "import pandas as pd\n",
    "import matplotlib.pyplot as plt\n",
    "import seaborn as sns\n",
    "import numpy as np\n"
   ]
  },
  {
   "cell_type": "markdown",
   "metadata": {},
   "source": [
    "Import the Data:"
   ]
  },
  {
   "cell_type": "code",
   "execution_count": 2,
   "metadata": {},
   "outputs": [
    {
     "name": "stderr",
     "output_type": "stream",
     "text": [
      "C:\\Users\\ed2to\\AppData\\Local\\Temp\\ipykernel_28260\\1993734923.py:1: DtypeWarning: Columns (5,9) have mixed types. Specify dtype option on import or set low_memory=False.\n",
      "  ufo_df = pd.read_csv('scrubbed.csv')\n"
     ]
    }
   ],
   "source": [
    "ufo_df = pd.read_csv('scrubbed.csv')"
   ]
  },
  {
   "cell_type": "markdown",
   "metadata": {},
   "source": [
    "Before the clean up:"
   ]
  },
  {
   "cell_type": "code",
   "execution_count": 23,
   "metadata": {},
   "outputs": [
    {
     "name": "stderr",
     "output_type": "stream",
     "text": [
      "C:\\Users\\ed2to\\AppData\\Local\\Temp\\ipykernel_28260\\313704087.py:1: DtypeWarning: Columns (5,9) have mixed types. Specify dtype option on import or set low_memory=False.\n",
      "  original_df = pd.read_csv('scrubbed.csv')\n"
     ]
    },
    {
     "data": {
      "text/html": [
       "<div>\n",
       "<style scoped>\n",
       "    .dataframe tbody tr th:only-of-type {\n",
       "        vertical-align: middle;\n",
       "    }\n",
       "\n",
       "    .dataframe tbody tr th {\n",
       "        vertical-align: top;\n",
       "    }\n",
       "\n",
       "    .dataframe thead th {\n",
       "        text-align: right;\n",
       "    }\n",
       "</style>\n",
       "<table border=\"1\" class=\"dataframe\">\n",
       "  <thead>\n",
       "    <tr style=\"text-align: right;\">\n",
       "      <th></th>\n",
       "      <th>datetime</th>\n",
       "      <th>city</th>\n",
       "      <th>state</th>\n",
       "      <th>country</th>\n",
       "      <th>shape</th>\n",
       "      <th>duration (seconds)</th>\n",
       "      <th>duration (hours/min)</th>\n",
       "      <th>comments</th>\n",
       "      <th>date posted</th>\n",
       "      <th>latitude</th>\n",
       "      <th>longitude</th>\n",
       "    </tr>\n",
       "  </thead>\n",
       "  <tbody>\n",
       "    <tr>\n",
       "      <th>0</th>\n",
       "      <td>10/10/1949 20:30</td>\n",
       "      <td>san marcos</td>\n",
       "      <td>tx</td>\n",
       "      <td>us</td>\n",
       "      <td>cylinder</td>\n",
       "      <td>2700</td>\n",
       "      <td>45 minutes</td>\n",
       "      <td>This event took place in early fall around 194...</td>\n",
       "      <td>4/27/2004</td>\n",
       "      <td>29.8830556</td>\n",
       "      <td>-97.941111</td>\n",
       "    </tr>\n",
       "    <tr>\n",
       "      <th>1</th>\n",
       "      <td>10/10/1949 21:00</td>\n",
       "      <td>lackland afb</td>\n",
       "      <td>tx</td>\n",
       "      <td>NaN</td>\n",
       "      <td>light</td>\n",
       "      <td>7200</td>\n",
       "      <td>1-2 hrs</td>\n",
       "      <td>1949 Lackland AFB&amp;#44 TX.  Lights racing acros...</td>\n",
       "      <td>12/16/2005</td>\n",
       "      <td>29.38421</td>\n",
       "      <td>-98.581082</td>\n",
       "    </tr>\n",
       "  </tbody>\n",
       "</table>\n",
       "</div>"
      ],
      "text/plain": [
       "           datetime          city state country     shape duration (seconds)  \\\n",
       "0  10/10/1949 20:30    san marcos    tx      us  cylinder               2700   \n",
       "1  10/10/1949 21:00  lackland afb    tx     NaN     light               7200   \n",
       "\n",
       "  duration (hours/min)                                           comments  \\\n",
       "0           45 minutes  This event took place in early fall around 194...   \n",
       "1              1-2 hrs  1949 Lackland AFB&#44 TX.  Lights racing acros...   \n",
       "\n",
       "  date posted    latitude  longitude   \n",
       "0   4/27/2004  29.8830556  -97.941111  \n",
       "1  12/16/2005    29.38421  -98.581082  "
      ]
     },
     "execution_count": 23,
     "metadata": {},
     "output_type": "execute_result"
    }
   ],
   "source": [
    "original_df = pd.read_csv('scrubbed.csv')\n",
    "original_df.head(2)"
   ]
  },
  {
   "cell_type": "code",
   "execution_count": 24,
   "metadata": {},
   "outputs": [
    {
     "data": {
      "text/html": [
       "<div>\n",
       "<style scoped>\n",
       "    .dataframe tbody tr th:only-of-type {\n",
       "        vertical-align: middle;\n",
       "    }\n",
       "\n",
       "    .dataframe tbody tr th {\n",
       "        vertical-align: top;\n",
       "    }\n",
       "\n",
       "    .dataframe thead th {\n",
       "        text-align: right;\n",
       "    }\n",
       "</style>\n",
       "<table border=\"1\" class=\"dataframe\">\n",
       "  <thead>\n",
       "    <tr style=\"text-align: right;\">\n",
       "      <th></th>\n",
       "      <th>datetime</th>\n",
       "      <th>city</th>\n",
       "      <th>state</th>\n",
       "      <th>country</th>\n",
       "      <th>shape</th>\n",
       "      <th>duration</th>\n",
       "      <th>comments</th>\n",
       "      <th>dateposted</th>\n",
       "      <th>latitude</th>\n",
       "      <th>longitude</th>\n",
       "      <th>location</th>\n",
       "      <th>year</th>\n",
       "      <th>month</th>\n",
       "    </tr>\n",
       "  </thead>\n",
       "  <tbody>\n",
       "    <tr>\n",
       "      <th>0</th>\n",
       "      <td>1949-10-10 20:30:00</td>\n",
       "      <td>san marcos</td>\n",
       "      <td>tx</td>\n",
       "      <td>us</td>\n",
       "      <td>cylinder</td>\n",
       "      <td>2700</td>\n",
       "      <td>This event took place in early fall around 194...</td>\n",
       "      <td>2004-04-27</td>\n",
       "      <td>29.883056</td>\n",
       "      <td>-97.941111</td>\n",
       "      <td>us-tx-san marcos</td>\n",
       "      <td>1949</td>\n",
       "      <td>10</td>\n",
       "    </tr>\n",
       "    <tr>\n",
       "      <th>1</th>\n",
       "      <td>1956-10-10 21:00:00</td>\n",
       "      <td>edna</td>\n",
       "      <td>tx</td>\n",
       "      <td>us</td>\n",
       "      <td>circle</td>\n",
       "      <td>20</td>\n",
       "      <td>My older brother and twin sister were leaving ...</td>\n",
       "      <td>2004-01-17</td>\n",
       "      <td>28.978333</td>\n",
       "      <td>-96.645833</td>\n",
       "      <td>us-tx-edna</td>\n",
       "      <td>1956</td>\n",
       "      <td>10</td>\n",
       "    </tr>\n",
       "  </tbody>\n",
       "</table>\n",
       "</div>"
      ],
      "text/plain": [
       "             datetime        city state country     shape  duration  \\\n",
       "0 1949-10-10 20:30:00  san marcos    tx      us  cylinder      2700   \n",
       "1 1956-10-10 21:00:00        edna    tx      us    circle        20   \n",
       "\n",
       "                                            comments dateposted   latitude  \\\n",
       "0  This event took place in early fall around 194... 2004-04-27  29.883056   \n",
       "1  My older brother and twin sister were leaving ... 2004-01-17  28.978333   \n",
       "\n",
       "   longitude           location  year  month  \n",
       "0  -97.941111  us-tx-san marcos  1949     10  \n",
       "1  -96.645833        us-tx-edna  1956     10  "
      ]
     },
     "execution_count": 24,
     "metadata": {},
     "output_type": "execute_result"
    }
   ],
   "source": [
    "ufo_df.head(2)"
   ]
  },
  {
   "cell_type": "code",
   "execution_count": 4,
   "metadata": {},
   "outputs": [
    {
     "name": "stdout",
     "output_type": "stream",
     "text": [
      "<class 'pandas.core.frame.DataFrame'>\n",
      "RangeIndex: 80332 entries, 0 to 80331\n",
      "Data columns (total 11 columns):\n",
      " #   Column                Non-Null Count  Dtype  \n",
      "---  ------                --------------  -----  \n",
      " 0   datetime              80332 non-null  object \n",
      " 1   city                  80332 non-null  object \n",
      " 2   state                 74535 non-null  object \n",
      " 3   country               70662 non-null  object \n",
      " 4   shape                 78400 non-null  object \n",
      " 5   duration (seconds)    80332 non-null  object \n",
      " 6   duration (hours/min)  80332 non-null  object \n",
      " 7   comments              80317 non-null  object \n",
      " 8   date posted           80332 non-null  object \n",
      " 9   latitude              80332 non-null  object \n",
      " 10  longitude             80332 non-null  float64\n",
      "dtypes: float64(1), object(10)\n",
      "memory usage: 6.7+ MB\n"
     ]
    }
   ],
   "source": [
    "ufo_df.info()"
   ]
  },
  {
   "cell_type": "markdown",
   "metadata": {},
   "source": [
    "## Data Cleanup"
   ]
  },
  {
   "cell_type": "code",
   "execution_count": 5,
   "metadata": {},
   "outputs": [],
   "source": [
    "#drop duration (hours/min) column:\n",
    "ufo_df.drop(columns='duration (hours/min)', inplace=True)"
   ]
  },
  {
   "cell_type": "code",
   "execution_count": 6,
   "metadata": {},
   "outputs": [
    {
     "name": "stdout",
     "output_type": "stream",
     "text": [
      "<class 'pandas.core.frame.DataFrame'>\n",
      "Int64Index: 66516 entries, 0 to 80331\n",
      "Data columns (total 10 columns):\n",
      " #   Column      Non-Null Count  Dtype  \n",
      "---  ------      --------------  -----  \n",
      " 0   datetime    66516 non-null  object \n",
      " 1   city        66516 non-null  object \n",
      " 2   state       66516 non-null  object \n",
      " 3   country     66516 non-null  object \n",
      " 4   shape       66516 non-null  object \n",
      " 5   duration    66516 non-null  float64\n",
      " 6   comments    66516 non-null  object \n",
      " 7   dateposted  66516 non-null  object \n",
      " 8   latitude    66516 non-null  float64\n",
      " 9   longitude   66516 non-null  float64\n",
      "dtypes: float64(3), object(7)\n",
      "memory usage: 5.6+ MB\n"
     ]
    }
   ],
   "source": [
    "#drop NAs\n",
    "ufo_df.dropna(inplace = True)\n",
    "\n",
    "#change duration and latitude to a float\n",
    "ufo_df['duration (seconds)']= pd.to_numeric(ufo_df['duration (seconds)'], errors='coerce')\n",
    "ufo_df['latitude']= pd.to_numeric(ufo_df['latitude'], errors='coerce')\n",
    "\n",
    "#change column name to duration\n",
    "ufo_df.rename(columns={\"duration (seconds)\": \"duration\", \"date posted\": 'dateposted'}, inplace = True)\n",
    "ufo_df.info()"
   ]
  },
  {
   "cell_type": "code",
   "execution_count": 7,
   "metadata": {},
   "outputs": [
    {
     "data": {
      "text/html": [
       "<div>\n",
       "<style scoped>\n",
       "    .dataframe tbody tr th:only-of-type {\n",
       "        vertical-align: middle;\n",
       "    }\n",
       "\n",
       "    .dataframe tbody tr th {\n",
       "        vertical-align: top;\n",
       "    }\n",
       "\n",
       "    .dataframe thead th {\n",
       "        text-align: right;\n",
       "    }\n",
       "</style>\n",
       "<table border=\"1\" class=\"dataframe\">\n",
       "  <thead>\n",
       "    <tr style=\"text-align: right;\">\n",
       "      <th></th>\n",
       "      <th>datetime</th>\n",
       "      <th>city</th>\n",
       "      <th>state</th>\n",
       "      <th>country</th>\n",
       "      <th>shape</th>\n",
       "      <th>duration</th>\n",
       "      <th>comments</th>\n",
       "      <th>dateposted</th>\n",
       "      <th>latitude</th>\n",
       "      <th>longitude</th>\n",
       "    </tr>\n",
       "  </thead>\n",
       "  <tbody>\n",
       "    <tr>\n",
       "      <th>0</th>\n",
       "      <td>10/10/1949 20:30</td>\n",
       "      <td>san marcos</td>\n",
       "      <td>tx</td>\n",
       "      <td>us</td>\n",
       "      <td>cylinder</td>\n",
       "      <td>2700.0</td>\n",
       "      <td>This event took place in early fall around 194...</td>\n",
       "      <td>4/27/2004</td>\n",
       "      <td>29.883056</td>\n",
       "      <td>-97.941111</td>\n",
       "    </tr>\n",
       "    <tr>\n",
       "      <th>1</th>\n",
       "      <td>10/10/1956 21:00</td>\n",
       "      <td>edna</td>\n",
       "      <td>tx</td>\n",
       "      <td>us</td>\n",
       "      <td>circle</td>\n",
       "      <td>20.0</td>\n",
       "      <td>My older brother and twin sister were leaving ...</td>\n",
       "      <td>1/17/2004</td>\n",
       "      <td>28.978333</td>\n",
       "      <td>-96.645833</td>\n",
       "    </tr>\n",
       "    <tr>\n",
       "      <th>2</th>\n",
       "      <td>10/10/1960 20:00</td>\n",
       "      <td>kaneohe</td>\n",
       "      <td>hi</td>\n",
       "      <td>us</td>\n",
       "      <td>light</td>\n",
       "      <td>900.0</td>\n",
       "      <td>AS a Marine 1st Lt. flying an FJ4B fighter/att...</td>\n",
       "      <td>1/22/2004</td>\n",
       "      <td>21.418056</td>\n",
       "      <td>-157.803611</td>\n",
       "    </tr>\n",
       "    <tr>\n",
       "      <th>3</th>\n",
       "      <td>10/10/1961 19:00</td>\n",
       "      <td>bristol</td>\n",
       "      <td>tn</td>\n",
       "      <td>us</td>\n",
       "      <td>sphere</td>\n",
       "      <td>300.0</td>\n",
       "      <td>My father is now 89 my brother 52 the girl wit...</td>\n",
       "      <td>4/27/2007</td>\n",
       "      <td>36.595000</td>\n",
       "      <td>-82.188889</td>\n",
       "    </tr>\n",
       "    <tr>\n",
       "      <th>4</th>\n",
       "      <td>10/10/1965 23:45</td>\n",
       "      <td>norwalk</td>\n",
       "      <td>ct</td>\n",
       "      <td>us</td>\n",
       "      <td>disk</td>\n",
       "      <td>1200.0</td>\n",
       "      <td>A bright orange color changing to reddish colo...</td>\n",
       "      <td>10/2/1999</td>\n",
       "      <td>41.117500</td>\n",
       "      <td>-73.408333</td>\n",
       "    </tr>\n",
       "  </tbody>\n",
       "</table>\n",
       "</div>"
      ],
      "text/plain": [
       "           datetime        city state country     shape  duration  \\\n",
       "0  10/10/1949 20:30  san marcos    tx      us  cylinder    2700.0   \n",
       "1  10/10/1956 21:00        edna    tx      us    circle      20.0   \n",
       "2  10/10/1960 20:00     kaneohe    hi      us     light     900.0   \n",
       "3  10/10/1961 19:00     bristol    tn      us    sphere     300.0   \n",
       "4  10/10/1965 23:45     norwalk    ct      us      disk    1200.0   \n",
       "\n",
       "                                            comments dateposted   latitude  \\\n",
       "0  This event took place in early fall around 194...  4/27/2004  29.883056   \n",
       "1  My older brother and twin sister were leaving ...  1/17/2004  28.978333   \n",
       "2  AS a Marine 1st Lt. flying an FJ4B fighter/att...  1/22/2004  21.418056   \n",
       "3  My father is now 89 my brother 52 the girl wit...  4/27/2007  36.595000   \n",
       "4  A bright orange color changing to reddish colo...  10/2/1999  41.117500   \n",
       "\n",
       "   longitude   \n",
       "0  -97.941111  \n",
       "1  -96.645833  \n",
       "2 -157.803611  \n",
       "3  -82.188889  \n",
       "4  -73.408333  "
      ]
     },
     "execution_count": 7,
     "metadata": {},
     "output_type": "execute_result"
    }
   ],
   "source": [
    "#reset the index after dropping those NAs\n",
    "ufo_df = ufo_df.reset_index(drop = True)\n",
    "ufo_df.head()"
   ]
  },
  {
   "cell_type": "code",
   "execution_count": 8,
   "metadata": {},
   "outputs": [
    {
     "data": {
      "text/html": [
       "<div>\n",
       "<style scoped>\n",
       "    .dataframe tbody tr th:only-of-type {\n",
       "        vertical-align: middle;\n",
       "    }\n",
       "\n",
       "    .dataframe tbody tr th {\n",
       "        vertical-align: top;\n",
       "    }\n",
       "\n",
       "    .dataframe thead th {\n",
       "        text-align: right;\n",
       "    }\n",
       "</style>\n",
       "<table border=\"1\" class=\"dataframe\">\n",
       "  <thead>\n",
       "    <tr style=\"text-align: right;\">\n",
       "      <th></th>\n",
       "      <th>datetime</th>\n",
       "      <th>city</th>\n",
       "      <th>state</th>\n",
       "      <th>country</th>\n",
       "      <th>shape</th>\n",
       "      <th>duration</th>\n",
       "      <th>comments</th>\n",
       "      <th>dateposted</th>\n",
       "      <th>latitude</th>\n",
       "      <th>longitude</th>\n",
       "    </tr>\n",
       "  </thead>\n",
       "  <tbody>\n",
       "    <tr>\n",
       "      <th>0</th>\n",
       "      <td>1949-10-10 20:30:00</td>\n",
       "      <td>san marcos</td>\n",
       "      <td>tx</td>\n",
       "      <td>us</td>\n",
       "      <td>cylinder</td>\n",
       "      <td>2700.0</td>\n",
       "      <td>This event took place in early fall around 194...</td>\n",
       "      <td>2004-04-27</td>\n",
       "      <td>29.883056</td>\n",
       "      <td>-97.941111</td>\n",
       "    </tr>\n",
       "    <tr>\n",
       "      <th>1</th>\n",
       "      <td>1956-10-10 21:00:00</td>\n",
       "      <td>edna</td>\n",
       "      <td>tx</td>\n",
       "      <td>us</td>\n",
       "      <td>circle</td>\n",
       "      <td>20.0</td>\n",
       "      <td>My older brother and twin sister were leaving ...</td>\n",
       "      <td>2004-01-17</td>\n",
       "      <td>28.978333</td>\n",
       "      <td>-96.645833</td>\n",
       "    </tr>\n",
       "    <tr>\n",
       "      <th>2</th>\n",
       "      <td>1960-10-10 20:00:00</td>\n",
       "      <td>kaneohe</td>\n",
       "      <td>hi</td>\n",
       "      <td>us</td>\n",
       "      <td>light</td>\n",
       "      <td>900.0</td>\n",
       "      <td>AS a Marine 1st Lt. flying an FJ4B fighter/att...</td>\n",
       "      <td>2004-01-22</td>\n",
       "      <td>21.418056</td>\n",
       "      <td>-157.803611</td>\n",
       "    </tr>\n",
       "    <tr>\n",
       "      <th>3</th>\n",
       "      <td>1961-10-10 19:00:00</td>\n",
       "      <td>bristol</td>\n",
       "      <td>tn</td>\n",
       "      <td>us</td>\n",
       "      <td>sphere</td>\n",
       "      <td>300.0</td>\n",
       "      <td>My father is now 89 my brother 52 the girl wit...</td>\n",
       "      <td>2007-04-27</td>\n",
       "      <td>36.595000</td>\n",
       "      <td>-82.188889</td>\n",
       "    </tr>\n",
       "    <tr>\n",
       "      <th>4</th>\n",
       "      <td>1965-10-10 23:45:00</td>\n",
       "      <td>norwalk</td>\n",
       "      <td>ct</td>\n",
       "      <td>us</td>\n",
       "      <td>disk</td>\n",
       "      <td>1200.0</td>\n",
       "      <td>A bright orange color changing to reddish colo...</td>\n",
       "      <td>1999-10-02</td>\n",
       "      <td>41.117500</td>\n",
       "      <td>-73.408333</td>\n",
       "    </tr>\n",
       "  </tbody>\n",
       "</table>\n",
       "</div>"
      ],
      "text/plain": [
       "             datetime        city state country     shape  duration  \\\n",
       "0 1949-10-10 20:30:00  san marcos    tx      us  cylinder    2700.0   \n",
       "1 1956-10-10 21:00:00        edna    tx      us    circle      20.0   \n",
       "2 1960-10-10 20:00:00     kaneohe    hi      us     light     900.0   \n",
       "3 1961-10-10 19:00:00     bristol    tn      us    sphere     300.0   \n",
       "4 1965-10-10 23:45:00     norwalk    ct      us      disk    1200.0   \n",
       "\n",
       "                                            comments dateposted   latitude  \\\n",
       "0  This event took place in early fall around 194... 2004-04-27  29.883056   \n",
       "1  My older brother and twin sister were leaving ... 2004-01-17  28.978333   \n",
       "2  AS a Marine 1st Lt. flying an FJ4B fighter/att... 2004-01-22  21.418056   \n",
       "3  My father is now 89 my brother 52 the girl wit... 2007-04-27  36.595000   \n",
       "4  A bright orange color changing to reddish colo... 1999-10-02  41.117500   \n",
       "\n",
       "   longitude   \n",
       "0  -97.941111  \n",
       "1  -96.645833  \n",
       "2 -157.803611  \n",
       "3  -82.188889  \n",
       "4  -73.408333  "
      ]
     },
     "execution_count": 8,
     "metadata": {},
     "output_type": "execute_result"
    }
   ],
   "source": [
    "#changing the format in the datetime column:\n",
    "format_change = ufo_df.datetime.str.replace('24:00', '00:00') \n",
    "format_change = pd.to_datetime(format_change, format='%m/%d/%Y %H:%M')\n",
    "\n",
    "ufo_df['datetime'] = ufo_df.datetime.str.replace('24:00', '00:00')\n",
    "ufo_df['datetime'] = pd.to_datetime(ufo_df['datetime'], format='%m/%d/%Y %H:%M')\n",
    "\n",
    "#changing the dtype to a better datetime format:\n",
    "ufo_df['datetime'] = pd.to_datetime(ufo_df['datetime'])\n",
    "ufo_df['dateposted'] = pd.to_datetime(ufo_df['dateposted'])\n",
    "\n",
    "ufo_df.head()"
   ]
  },
  {
   "cell_type": "code",
   "execution_count": 9,
   "metadata": {},
   "outputs": [
    {
     "name": "stdout",
     "output_type": "stream",
     "text": [
      "<class 'pandas.core.frame.DataFrame'>\n",
      "RangeIndex: 66516 entries, 0 to 66515\n",
      "Data columns (total 10 columns):\n",
      " #   Column      Non-Null Count  Dtype         \n",
      "---  ------      --------------  -----         \n",
      " 0   datetime    66516 non-null  datetime64[ns]\n",
      " 1   city        66516 non-null  object        \n",
      " 2   state       66516 non-null  object        \n",
      " 3   country     66516 non-null  object        \n",
      " 4   shape       66516 non-null  object        \n",
      " 5   duration    66516 non-null  int32         \n",
      " 6   comments    66516 non-null  object        \n",
      " 7   dateposted  66516 non-null  datetime64[ns]\n",
      " 8   latitude    66516 non-null  float64       \n",
      " 9   longitude   66516 non-null  float64       \n",
      "dtypes: datetime64[ns](2), float64(2), int32(1), object(5)\n",
      "memory usage: 4.8+ MB\n"
     ]
    }
   ],
   "source": [
    "# ufo_df.astype({\"duration\": int})\n",
    "ufo_df['duration'] = ufo_df['duration'].astype(int)\n",
    "ufo_df.info()"
   ]
  },
  {
   "cell_type": "markdown",
   "metadata": {},
   "source": [
    "# Questions"
   ]
  },
  {
   "cell_type": "markdown",
   "metadata": {},
   "source": [
    "### Where do ufo sightings occur the most?"
   ]
  },
  {
   "cell_type": "code",
   "execution_count": 10,
   "metadata": {},
   "outputs": [],
   "source": [
    "# New column \"location\" with country, state, and city merged together:\n",
    "ufo_df[\"location\"] = ufo_df[['country', 'state', 'city']].agg('-'.join, axis=1)"
   ]
  },
  {
   "cell_type": "markdown",
   "metadata": {},
   "source": [
    "1. (Visual #1) Let's see how many sightings have occured in USA by state:"
   ]
  },
  {
   "cell_type": "code",
   "execution_count": 11,
   "metadata": {},
   "outputs": [
    {
     "name": "stderr",
     "output_type": "stream",
     "text": [
      "c:\\Users\\ed2to\\anaconda3\\lib\\site-packages\\seaborn\\_decorators.py:36: FutureWarning: Pass the following variables as keyword args: x, y. From version 0.12, the only valid positional argument will be `data`, and passing other arguments without an explicit keyword will result in an error or misinterpretation.\n",
      "  warnings.warn(\n"
     ]
    },
    {
     "data": {
      "image/png": "[encoded data removed]",
      "text/plain": [
       "<Figure size 1296x432 with 1 Axes>"
      ]
     },
     "metadata": {
      "needs_background": "light"
     },
     "output_type": "display_data"
    }
   ],
   "source": [
    "ufo_df['country'].value_counts()\n",
    "\n",
    "usa_ufo = ufo_df['country']=='us'\n",
    "us_data = ufo_df[usa_ufo]\n",
    "\n",
    "#now the states:\n",
    "usa_states = us_data.state.value_counts()\n",
    "state_names = usa_states.index\n",
    "state_freq = usa_states.sort_values(ascending = False)\n",
    "state_freq\n",
    "# plt.figure(figsize = (18,8))\n",
    "# sns.scatterplot(x = ufo_df.state, y = state_freq)\n",
    "\n",
    "plt.figure(figsize = (18,6))\n",
    "sns.set_style(\"darkgrid\")\n",
    "sns.barplot(state_names, state_freq);\n",
    "\n",
    "plt.title('Sightings by US States', fontsize=18)\n",
    "plt.xlabel('States', fontsize=16)\n",
    "plt.ylabel('# of Appearances', fontsize=16)\n",
    "plt.xticks(fontsize=12);\n",
    "plt.yticks(fontsize=12);"
   ]
  },
  {
   "cell_type": "markdown",
   "metadata": {},
   "source": [
    "2. What is the average sighting duration for disk shaped UFOs? (Convert those seconds to hours and minutes.) Where are those shapes most frequently spotted?"
   ]
  },
  {
   "cell_type": "code",
   "execution_count": 12,
   "metadata": {},
   "outputs": [
    {
     "data": {
      "text/plain": [
       "1461.7823570270896"
      ]
     },
     "execution_count": 12,
     "metadata": {},
     "output_type": "execute_result"
    }
   ],
   "source": [
    "# will only show disk data:\n",
    "disk_shape = ufo_df[ufo_df['shape'].str.contains('disk')]\n",
    "\n",
    "# duration mean for disk appearances:\n",
    "disk_duration = disk_shape.duration.mean()\n",
    "disk_duration"
   ]
  },
  {
   "cell_type": "markdown",
   "metadata": {},
   "source": [
    "3. What day and year had the most sightings reported?"
   ]
  },
  {
   "cell_type": "code",
   "execution_count": 13,
   "metadata": {},
   "outputs": [
    {
     "name": "stdout",
     "output_type": "stream",
     "text": [
      "2012    6489\n",
      "Name: year, dtype: Int64\n",
      "2012 had the most UFO sightings reported: 6489\n",
      "\n",
      "2010-07-04 22:00:00    31\n",
      "Name: datetime, dtype: int64\n",
      "July 4, 2010 had the most UFO sightings reported: 31\n"
     ]
    }
   ],
   "source": [
    "# make year into its own column:\n",
    "ufo_df.datetime = pd.to_datetime(ufo_df.datetime)\n",
    "ufo_df['year'] = ufo_df.datetime.dt.year.astype('Int64')\n",
    "\n",
    "# ----Finding what year sightings were most reported-----\n",
    "most_year = ufo_df.year.value_counts()\n",
    "print(most_year.head(1))\n",
    "print('2012 had the most UFO sightings reported:', most_year.iloc[0])\n",
    "print()\n",
    "\n",
    "# ----Finding what day sightings were most reported-----\n",
    "most_day = ufo_df.datetime.value_counts().iloc[0]\n",
    "most_day2 = ufo_df.datetime.value_counts().head(1)\n",
    "print(most_day2)\n",
    "print(\"July 4, 2010 had the most UFO sightings reported:\", most_day)"
   ]
  },
  {
   "cell_type": "markdown",
   "metadata": {},
   "source": [
    "4. When was the earliest UFO sighting reported (datetime)? Provide only the columns state, city, country, comments, and shape."
   ]
  },
  {
   "cell_type": "code",
   "execution_count": 14,
   "metadata": {},
   "outputs": [
    {
     "data": {
      "text/html": [
       "<div>\n",
       "<style scoped>\n",
       "    .dataframe tbody tr th:only-of-type {\n",
       "        vertical-align: middle;\n",
       "    }\n",
       "\n",
       "    .dataframe tbody tr th {\n",
       "        vertical-align: top;\n",
       "    }\n",
       "\n",
       "    .dataframe thead th {\n",
       "        text-align: right;\n",
       "    }\n",
       "</style>\n",
       "<table border=\"1\" class=\"dataframe\">\n",
       "  <thead>\n",
       "    <tr style=\"text-align: right;\">\n",
       "      <th></th>\n",
       "      <th>datetime</th>\n",
       "      <th>shape</th>\n",
       "      <th>country</th>\n",
       "      <th>state</th>\n",
       "      <th>city</th>\n",
       "      <th>dateposted</th>\n",
       "      <th>comments</th>\n",
       "    </tr>\n",
       "  </thead>\n",
       "  <tbody>\n",
       "    <tr>\n",
       "      <th>8965</th>\n",
       "      <td>1910-01-01</td>\n",
       "      <td>disk</td>\n",
       "      <td>us</td>\n",
       "      <td>mo</td>\n",
       "      <td>kirksville (near)</td>\n",
       "      <td>2005-09-15</td>\n",
       "      <td>Historical sighting (1903 - 1913) Northern Mis...</td>\n",
       "    </tr>\n",
       "  </tbody>\n",
       "</table>\n",
       "</div>"
      ],
      "text/plain": [
       "       datetime shape country state               city dateposted  \\\n",
       "8965 1910-01-01  disk      us    mo  kirksville (near) 2005-09-15   \n",
       "\n",
       "                                               comments  \n",
       "8965  Historical sighting (1903 - 1913) Northern Mis...  "
      ]
     },
     "execution_count": 14,
     "metadata": {},
     "output_type": "execute_result"
    }
   ],
   "source": [
    "data = ufo_df.sort_values(by=\"datetime\").head(1)\n",
    "data[['datetime','shape', 'country', 'state', 'city', 'dateposted', 'comments']]"
   ]
  },
  {
   "cell_type": "markdown",
   "metadata": {},
   "source": [
    "5. What was the most frequent description used when people reported their experience?"
   ]
  },
  {
   "cell_type": "code",
   "execution_count": 15,
   "metadata": {},
   "outputs": [
    {
     "name": "stdout",
     "output_type": "stream",
     "text": [
      "\"Fireball\" was the most used description people used when describing what they saw.\n",
      "count        66516\n",
      "unique       66261\n",
      "top       Fireball\n",
      "freq            10\n",
      "Name: comments, dtype: object\n"
     ]
    }
   ],
   "source": [
    "#(comments).describe()\n",
    "ufo_df.comments.describe()\n",
    "print('\"Fireball\" was the most used description people used when describing what they saw.')\n",
    "print(ufo_df.comments.describe())\n"
   ]
  },
  {
   "cell_type": "markdown",
   "metadata": {},
   "source": [
    "6. How many sightings were reported before (and including) 2000? How many after? What can you observe from that information?"
   ]
  },
  {
   "cell_type": "code",
   "execution_count": 16,
   "metadata": {},
   "outputs": [
    {
     "name": "stdout",
     "output_type": "stream",
     "text": [
      "Before and during 2000: 54647\n",
      "After 2000: 11869\n",
      "There were more sightings before 2000. Many of the described occurences can be explained today - better than they could have before 2000. \n"
     ]
    }
   ],
   "source": [
    "#created a year and month column:\n",
    "ufo_df['dateposted'] = pd.to_datetime(ufo_df['dateposted'])\n",
    "ufo_df['year'], ufo_df['month'] = ufo_df['datetime'].dt.year, ufo_df['datetime'].dt.month\n",
    "ufo_df\n",
    "\n",
    "before = ufo_df[['year']][ (ufo_df['year'] >= 2000) ]\n",
    "\n",
    "after = ufo_df[['year']][ (ufo_df['year'] < 2000) ]\n",
    "\n",
    "\n",
    "print('Before and during 2000:', before.value_counts().sum())\n",
    "print('After 2000:', after.value_counts().sum())\n",
    "print('There were more sightings before 2000. Many of the described occurences can be explained today - better than they could have before 2000. ')"
   ]
  },
  {
   "cell_type": "markdown",
   "metadata": {},
   "source": [
    "7. How many times do the words \"alien,\" \"abduct,\" \"spooky,\" \"God,\" \"night,\" or \"day\" appear in the comments?"
   ]
  },
  {
   "cell_type": "code",
   "execution_count": 17,
   "metadata": {},
   "outputs": [
    {
     "name": "stdout",
     "output_type": "stream",
     "text": [
      "\"Alien\": 90\n",
      "\"Abduct\": 71\n",
      "\"God\": 12\n",
      "\"Night\": 3440\n",
      "\"Day\": 1638\n"
     ]
    }
   ],
   "source": [
    "alien = ufo_df['comments'].str.contains('alien')\n",
    "print('\"Alien\":', alien.sum())\n",
    "\n",
    "abduct = ufo_df['comments'].str.contains('abduct')\n",
    "print('\"Abduct\":', abduct.sum())\n",
    "\n",
    "god = ufo_df['comments'].str.contains('God')\n",
    "print('\"God\":', god.sum())\n",
    "\n",
    "night = ufo_df['comments'].str.contains('night')\n",
    "print('\"Night\":', night.sum())\n",
    "\n",
    "day = ufo_df['comments'].str.contains('day')\n",
    "print('\"Day\":', day.sum())"
   ]
  },
  {
   "cell_type": "markdown",
   "metadata": {},
   "source": [
    "8. How many sightings occured in each country?"
   ]
  },
  {
   "cell_type": "code",
   "execution_count": 18,
   "metadata": {},
   "outputs": [
    {
     "data": {
      "text/plain": [
       "us    63553\n",
       "ca     2942\n",
       "gb       11\n",
       "au       10\n",
       "Name: country, dtype: int64"
      ]
     },
     "execution_count": 18,
     "metadata": {},
     "output_type": "execute_result"
    }
   ],
   "source": [
    "ufo_df['country'].value_counts()"
   ]
  },
  {
   "cell_type": "markdown",
   "metadata": {},
   "source": [
    "9. Reorder the data to show the earliest to oldest reported UFO sightings."
   ]
  },
  {
   "cell_type": "code",
   "execution_count": 19,
   "metadata": {},
   "outputs": [
    {
     "data": {
      "text/html": [
       "<div>\n",
       "<style scoped>\n",
       "    .dataframe tbody tr th:only-of-type {\n",
       "        vertical-align: middle;\n",
       "    }\n",
       "\n",
       "    .dataframe tbody tr th {\n",
       "        vertical-align: top;\n",
       "    }\n",
       "\n",
       "    .dataframe thead th {\n",
       "        text-align: right;\n",
       "    }\n",
       "</style>\n",
       "<table border=\"1\" class=\"dataframe\">\n",
       "  <thead>\n",
       "    <tr style=\"text-align: right;\">\n",
       "      <th></th>\n",
       "      <th>datetime</th>\n",
       "      <th>city</th>\n",
       "      <th>state</th>\n",
       "      <th>country</th>\n",
       "      <th>shape</th>\n",
       "      <th>duration</th>\n",
       "      <th>comments</th>\n",
       "      <th>dateposted</th>\n",
       "      <th>latitude</th>\n",
       "      <th>longitude</th>\n",
       "      <th>location</th>\n",
       "      <th>year</th>\n",
       "      <th>month</th>\n",
       "    </tr>\n",
       "  </thead>\n",
       "  <tbody>\n",
       "    <tr>\n",
       "      <th>0</th>\n",
       "      <td>1910-01-01 00:00:00</td>\n",
       "      <td>kirksville (near)</td>\n",
       "      <td>mo</td>\n",
       "      <td>us</td>\n",
       "      <td>disk</td>\n",
       "      <td>120</td>\n",
       "      <td>Historical sighting (1903 - 1913) Northern Mis...</td>\n",
       "      <td>2005-09-15</td>\n",
       "      <td>40.194722</td>\n",
       "      <td>-92.583056</td>\n",
       "      <td>us-mo-kirksville (near)</td>\n",
       "      <td>1910</td>\n",
       "      <td>1</td>\n",
       "    </tr>\n",
       "    <tr>\n",
       "      <th>1</th>\n",
       "      <td>1910-06-01 15:00:00</td>\n",
       "      <td>wills point</td>\n",
       "      <td>tx</td>\n",
       "      <td>us</td>\n",
       "      <td>cigar</td>\n",
       "      <td>120</td>\n",
       "      <td>Cigar shaped object moving from West to East</td>\n",
       "      <td>2005-04-16</td>\n",
       "      <td>32.709167</td>\n",
       "      <td>-96.008056</td>\n",
       "      <td>us-tx-wills point</td>\n",
       "      <td>1910</td>\n",
       "      <td>6</td>\n",
       "    </tr>\n",
       "    <tr>\n",
       "      <th>2</th>\n",
       "      <td>1920-06-11 21:00:00</td>\n",
       "      <td>cicero</td>\n",
       "      <td>in</td>\n",
       "      <td>us</td>\n",
       "      <td>unknown</td>\n",
       "      <td>60</td>\n",
       "      <td>((NUFORC Note:  Probable hoax.  Note date.  PD...</td>\n",
       "      <td>2009-05-12</td>\n",
       "      <td>40.123889</td>\n",
       "      <td>-86.013333</td>\n",
       "      <td>us-in-cicero</td>\n",
       "      <td>1920</td>\n",
       "      <td>6</td>\n",
       "    </tr>\n",
       "    <tr>\n",
       "      <th>3</th>\n",
       "      <td>1925-12-28 18:00:00</td>\n",
       "      <td>atkinson (6 miles north of)</td>\n",
       "      <td>il</td>\n",
       "      <td>us</td>\n",
       "      <td>disk</td>\n",
       "      <td>60</td>\n",
       "      <td>Young boy witnesses disc in sky above Illinois...</td>\n",
       "      <td>2005-05-11</td>\n",
       "      <td>41.420833</td>\n",
       "      <td>-90.015000</td>\n",
       "      <td>us-il-atkinson (6 miles north of)</td>\n",
       "      <td>1925</td>\n",
       "      <td>12</td>\n",
       "    </tr>\n",
       "    <tr>\n",
       "      <th>4</th>\n",
       "      <td>1929-07-05 14:00:00</td>\n",
       "      <td>buchanan  (or burns)</td>\n",
       "      <td>or</td>\n",
       "      <td>us</td>\n",
       "      <td>disk</td>\n",
       "      <td>60</td>\n",
       "      <td>we were traveling east of burns&amp;#44clmbing up ...</td>\n",
       "      <td>2002-08-16</td>\n",
       "      <td>43.642500</td>\n",
       "      <td>-118.627500</td>\n",
       "      <td>us-or-buchanan  (or burns)</td>\n",
       "      <td>1929</td>\n",
       "      <td>7</td>\n",
       "    </tr>\n",
       "    <tr>\n",
       "      <th>...</th>\n",
       "      <td>...</td>\n",
       "      <td>...</td>\n",
       "      <td>...</td>\n",
       "      <td>...</td>\n",
       "      <td>...</td>\n",
       "      <td>...</td>\n",
       "      <td>...</td>\n",
       "      <td>...</td>\n",
       "      <td>...</td>\n",
       "      <td>...</td>\n",
       "      <td>...</td>\n",
       "      <td>...</td>\n",
       "      <td>...</td>\n",
       "    </tr>\n",
       "    <tr>\n",
       "      <th>66511</th>\n",
       "      <td>2014-05-07 20:30:00</td>\n",
       "      <td>visalia</td>\n",
       "      <td>ca</td>\n",
       "      <td>us</td>\n",
       "      <td>fireball</td>\n",
       "      <td>180</td>\n",
       "      <td>Strange&amp;#44 slowly moving fireball like object...</td>\n",
       "      <td>2014-05-08</td>\n",
       "      <td>36.330278</td>\n",
       "      <td>-119.291111</td>\n",
       "      <td>us-ca-visalia</td>\n",
       "      <td>2014</td>\n",
       "      <td>5</td>\n",
       "    </tr>\n",
       "    <tr>\n",
       "      <th>66512</th>\n",
       "      <td>2014-05-07 21:00:00</td>\n",
       "      <td>theodore</td>\n",
       "      <td>al</td>\n",
       "      <td>us</td>\n",
       "      <td>circle</td>\n",
       "      <td>120</td>\n",
       "      <td>Driving home and entered my neighborhood and s...</td>\n",
       "      <td>2014-05-08</td>\n",
       "      <td>30.547500</td>\n",
       "      <td>-88.175278</td>\n",
       "      <td>us-al-theodore</td>\n",
       "      <td>2014</td>\n",
       "      <td>5</td>\n",
       "    </tr>\n",
       "    <tr>\n",
       "      <th>66513</th>\n",
       "      <td>2014-05-07 21:10:00</td>\n",
       "      <td>naugatuck</td>\n",
       "      <td>ct</td>\n",
       "      <td>us</td>\n",
       "      <td>unknown</td>\n",
       "      <td>300</td>\n",
       "      <td>Large formation of lights in western sky&amp;#44 f...</td>\n",
       "      <td>2014-05-08</td>\n",
       "      <td>41.485833</td>\n",
       "      <td>-73.051111</td>\n",
       "      <td>us-ct-naugatuck</td>\n",
       "      <td>2014</td>\n",
       "      <td>5</td>\n",
       "    </tr>\n",
       "    <tr>\n",
       "      <th>66514</th>\n",
       "      <td>2014-05-07 21:20:00</td>\n",
       "      <td>hillsboro</td>\n",
       "      <td>mo</td>\n",
       "      <td>us</td>\n",
       "      <td>fireball</td>\n",
       "      <td>360</td>\n",
       "      <td>Round slow moving silent ball looked like a ca...</td>\n",
       "      <td>2014-05-08</td>\n",
       "      <td>38.232222</td>\n",
       "      <td>-90.562778</td>\n",
       "      <td>us-mo-hillsboro</td>\n",
       "      <td>2014</td>\n",
       "      <td>5</td>\n",
       "    </tr>\n",
       "    <tr>\n",
       "      <th>66515</th>\n",
       "      <td>2014-05-08 00:00:00</td>\n",
       "      <td>memphis</td>\n",
       "      <td>tn</td>\n",
       "      <td>us</td>\n",
       "      <td>rectangle</td>\n",
       "      <td>900</td>\n",
       "      <td>Standing at my window around 0:00 brilliantly ...</td>\n",
       "      <td>2014-05-08</td>\n",
       "      <td>35.149444</td>\n",
       "      <td>-90.048889</td>\n",
       "      <td>us-tn-memphis</td>\n",
       "      <td>2014</td>\n",
       "      <td>5</td>\n",
       "    </tr>\n",
       "  </tbody>\n",
       "</table>\n",
       "<p>66516 rows × 13 columns</p>\n",
       "</div>"
      ],
      "text/plain": [
       "                 datetime                         city state country  \\\n",
       "0     1910-01-01 00:00:00            kirksville (near)    mo      us   \n",
       "1     1910-06-01 15:00:00                  wills point    tx      us   \n",
       "2     1920-06-11 21:00:00                       cicero    in      us   \n",
       "3     1925-12-28 18:00:00  atkinson (6 miles north of)    il      us   \n",
       "4     1929-07-05 14:00:00         buchanan  (or burns)    or      us   \n",
       "...                   ...                          ...   ...     ...   \n",
       "66511 2014-05-07 20:30:00                      visalia    ca      us   \n",
       "66512 2014-05-07 21:00:00                     theodore    al      us   \n",
       "66513 2014-05-07 21:10:00                    naugatuck    ct      us   \n",
       "66514 2014-05-07 21:20:00                    hillsboro    mo      us   \n",
       "66515 2014-05-08 00:00:00                      memphis    tn      us   \n",
       "\n",
       "           shape  duration                                           comments  \\\n",
       "0           disk       120  Historical sighting (1903 - 1913) Northern Mis...   \n",
       "1          cigar       120       Cigar shaped object moving from West to East   \n",
       "2        unknown        60  ((NUFORC Note:  Probable hoax.  Note date.  PD...   \n",
       "3           disk        60  Young boy witnesses disc in sky above Illinois...   \n",
       "4           disk        60  we were traveling east of burns&#44clmbing up ...   \n",
       "...          ...       ...                                                ...   \n",
       "66511   fireball       180  Strange&#44 slowly moving fireball like object...   \n",
       "66512     circle       120  Driving home and entered my neighborhood and s...   \n",
       "66513    unknown       300  Large formation of lights in western sky&#44 f...   \n",
       "66514   fireball       360  Round slow moving silent ball looked like a ca...   \n",
       "66515  rectangle       900  Standing at my window around 0:00 brilliantly ...   \n",
       "\n",
       "      dateposted   latitude  longitude                            location  \\\n",
       "0     2005-09-15  40.194722  -92.583056            us-mo-kirksville (near)   \n",
       "1     2005-04-16  32.709167  -96.008056                  us-tx-wills point   \n",
       "2     2009-05-12  40.123889  -86.013333                       us-in-cicero   \n",
       "3     2005-05-11  41.420833  -90.015000  us-il-atkinson (6 miles north of)   \n",
       "4     2002-08-16  43.642500 -118.627500         us-or-buchanan  (or burns)   \n",
       "...          ...        ...         ...                                ...   \n",
       "66511 2014-05-08  36.330278 -119.291111                      us-ca-visalia   \n",
       "66512 2014-05-08  30.547500  -88.175278                     us-al-theodore   \n",
       "66513 2014-05-08  41.485833  -73.051111                    us-ct-naugatuck   \n",
       "66514 2014-05-08  38.232222  -90.562778                    us-mo-hillsboro   \n",
       "66515 2014-05-08  35.149444  -90.048889                      us-tn-memphis   \n",
       "\n",
       "       year  month  \n",
       "0      1910      1  \n",
       "1      1910      6  \n",
       "2      1920      6  \n",
       "3      1925     12  \n",
       "4      1929      7  \n",
       "...     ...    ...  \n",
       "66511  2014      5  \n",
       "66512  2014      5  \n",
       "66513  2014      5  \n",
       "66514  2014      5  \n",
       "66515  2014      5  \n",
       "\n",
       "[66516 rows x 13 columns]"
      ]
     },
     "execution_count": 19,
     "metadata": {},
     "output_type": "execute_result"
    }
   ],
   "source": [
    "# ufo_df[['datetime','country', 'state']].transform(np.sort)\n",
    "ufo_df.sort_values(by='datetime').reset_index(drop = True)"
   ]
  },
  {
   "cell_type": "markdown",
   "metadata": {},
   "source": [
    "10. (Visual #2) Make a graph of the frequency of shapes to see which is most recorded."
   ]
  },
  {
   "cell_type": "code",
   "execution_count": 20,
   "metadata": {},
   "outputs": [
    {
     "data": {
      "image/png": "[encoded data removed]",
      "text/plain": [
       "<Figure size 864x576 with 1 Axes>"
      ]
     },
     "metadata": {},
     "output_type": "display_data"
    }
   ],
   "source": [
    "yeehaw = ufo_df['shape'].value_counts()\n",
    "\n",
    "plt.figure(figsize = (12,8))\n",
    "plt.barh(yeehaw.index, yeehaw, color = ['green', 'mediumseagreen']);\n",
    "\n",
    "plt.title('UFO Shapes', fontsize=18)\n",
    "plt.xlabel('Recorded Appearances', fontsize=18)\n",
    "plt.ylabel('Shape', fontsize=18)\n",
    "plt.xticks(fontsize=12);\n",
    "plt.yticks(fontsize=12);"
   ]
  },
  {
   "cell_type": "markdown",
   "metadata": {},
   "source": [
    "11. (Visual #3) Plot the number of sightings in all countries on a barplot. Base it on countries and datetime in increments of 10 yrs"
   ]
  },
  {
   "cell_type": "code",
   "execution_count": 21,
   "metadata": {},
   "outputs": [
    {
     "name": "stderr",
     "output_type": "stream",
     "text": [
      "C:\\Users\\ed2to\\AppData\\Local\\Temp\\ipykernel_28260\\3284352356.py:1: DtypeWarning: Columns (5,9) have mixed types. Specify dtype option on import or set low_memory=False.\n",
      "  original_df = pd.read_csv('scrubbed.csv')\n"
     ]
    },
    {
     "data": {
      "image/png": "[encoded data removed]",
      "text/plain": [
       "<Figure size 576x576 with 1 Axes>"
      ]
     },
     "metadata": {},
     "output_type": "display_data"
    }
   ],
   "source": [
    "original_df = pd.read_csv('scrubbed.csv')\n",
    "yeehaw = original_df['country'].value_counts()\n",
    "\n",
    "plt.figure(figsize = (8,8))\n",
    "plt.step(yeehaw.index, yeehaw, linewidth=6, color = 'seagreen');\n",
    "\n",
    "plt.title('Sightings by Country', fontsize=18)\n",
    "plt.xlabel('Country', fontsize=18)\n",
    "plt.ylabel('Recorded Appearances', fontsize=16)\n",
    "plt.xticks(fontsize=16);\n",
    "plt.yticks(fontsize=12);"
   ]
  },
  {
   "cell_type": "markdown",
   "metadata": {},
   "source": [
    "12. (Visual #4) Plot the relationship between the dateposted and datetime UFO sightings were reported"
   ]
  },
  {
   "cell_type": "code",
   "execution_count": 22,
   "metadata": {},
   "outputs": [
    {
     "data": {
      "image/png": "[encoded data removed]",
      "text/plain": [
       "<Figure size 1296x432 with 1 Axes>"
      ]
     },
     "metadata": {},
     "output_type": "display_data"
    }
   ],
   "source": [
    "# sns.lineplot(data = ufo_df, x = ufo_df['dateposted'].dt.year, y= ufo_df['datetime'], ci = False)\n",
    "plt.figure(figsize = (18,6))\n",
    "sns.set_style(\"darkgrid\")\n",
    "sns.lineplot(data = ufo_df, x = ufo_df['dateposted'].dt.year,y= ufo_df['datetime'], ci = False);\n",
    "\n",
    "plt.title('Relationship Between Date Reported and Date Witnessed', fontsize=18)\n",
    "plt.xlabel('Date Posted', fontsize=18)\n",
    "plt.ylabel('Date Time', fontsize=18)\n",
    "plt.xticks(fontsize=12);\n",
    "plt.yticks(fontsize=12);"
   ]
  }
 ],
 "metadata": {
  "kernelspec": {
   "display_name": "Python 3.9.12 ('base')",
   "language": "python",
   "name": "python3"
  },
  "language_info": {
   "codemirror_mode": {
    "name": "ipython",
    "version": 3
   },
   "file_extension": ".py",
   "mimetype": "text/x-python",
   "name": "python",
   "nbconvert_exporter": "python",
   "pygments_lexer": "ipython3",
   "version": "3.9.12"
  },
  "orig_nbformat": 4,
  "vscode": {
   "interpreter": {
    "hash": "7a374d325b2a22834d4e33ac773a956626ceb6c6bed0ca0b238194518e4c1694"
   }
  }
 },
 "nbformat": 4,
 "nbformat_minor": 2
}
